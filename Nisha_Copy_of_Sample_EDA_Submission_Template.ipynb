{
  "nbformat": 4,
  "nbformat_minor": 0,
  "metadata": {
    "colab": {
      "private_outputs": true,
      "provenance": [],
      "collapsed_sections": [
        "vncDsAP0Gaoa",
        "FJNUwmbgGyua",
        "w6K7xa23Elo4",
        "yQaldy8SH6Dl",
        "PH-0ReGfmX4f",
        "mDgbUHAGgjLW",
        "O_i_v8NEhb9l",
        "HhfV-JJviCcP",
        "Y3lxredqlCYt",
        "3RnN4peoiCZX",
        "x71ZqKXriCWQ",
        "7hBIi_osiCS2",
        "JlHwYmJAmNHm",
        "35m5QtbWiB9F",
        "PoPl-ycgm1ru",
        "H0kj-8xxnORC",
        "nA9Y7ga8ng1Z",
        "PBTbrJXOngz2",
        "u3PMJOP6ngxN",
        "dauF4eBmngu3",
        "bKJF3rekwFvQ",
        "MSa1f5Uengrz",
        "GF8Ens_Soomf",
        "0wOQAZs5pc--",
        "K5QZ13OEpz2H",
        "lQ7QKXXCp7Bj",
        "448CDAPjqfQr",
        "KSlN3yHqYklG",
        "t6dVpIINYklI",
        "ijmpgYnKYklI",
        "-JiQyfWJYklI",
        "EM7whBJCYoAo",
        "fge-S5ZAYoAp",
        "85gYPyotYoAp",
        "RoGjAbkUYoAp",
        "4Of9eVA-YrdM",
        "iky9q4vBYrdO",
        "F6T5p64dYrdO",
        "y-Ehk30pYrdP",
        "bamQiAODYuh1",
        "QHF8YVU7Yuh3",
        "GwzvFGzlYuh3",
        "qYpmQ266Yuh3",
        "OH-pJp9IphqM",
        "bbFf2-_FphqN",
        "_ouA3fa0phqN",
        "Seke61FWphqN",
        "PIIx-8_IphqN",
        "t27r6nlMphqO",
        "r2jJGEOYphqO",
        "b0JNsNcRphqO",
        "BZR9WyysphqO",
        "jj7wYXLtphqO",
        "eZrbJ2SmphqO",
        "rFu4xreNphqO",
        "YJ55k-q6phqO",
        "gCFgpxoyphqP",
        "OVtJsKN_phqQ",
        "lssrdh5qphqQ",
        "U2RJ9gkRphqQ",
        "1M8mcRywphqQ",
        "tgIPom80phqQ",
        "JMzcOPDDphqR",
        "x-EpHcCOp1ci",
        "X_VqEhTip1ck",
        "8zGJKyg5p1ck",
        "PVzmfK_Ep1ck",
        "n3dbpmDWp1ck",
        "ylSl6qgtp1ck",
        "ZWILFDl5p1ck",
        "M7G43BXep1ck",
        "Ag9LCva-p1cl",
        "E6MkPsBcp1cl",
        "2cELzS2fp1cl",
        "3MPXvC8up1cl",
        "NC_X3p0fY2L0",
        "UV0SzAkaZNRQ",
        "YPEH6qLeZNRQ",
        "q29F0dvdveiT",
        "EXh0U9oCveiU",
        "22aHeOlLveiV",
        "JcMwzZxoAimU",
        "8G2x9gOozGDZ",
        "gCX9965dhzqZ",
        "gIfDvo9L0UH2"
      ]
    },
    "kernelspec": {
      "name": "python3",
      "display_name": "Python 3"
    },
    "language_info": {
      "name": "python"
    }
  },
  "cells": [
    {
      "cell_type": "markdown",
      "source": [
        "# **Project Name**    -\n",
        "\n"
      ],
      "metadata": {
        "id": "vncDsAP0Gaoa"
      }
    },
    {
      "cell_type": "markdown",
      "source": [
        "##### **Project Type**    - EDA/Hotel Booking Analysis\n",
        "##### **Contribution**    - Individual/Nisha\n"
      ],
      "metadata": {
        "id": "beRrZCGUAJYm"
      }
    },
    {
      "cell_type": "markdown",
      "source": [
        "# **Project Summary -**"
      ],
      "metadata": {
        "id": "FJNUwmbgGyua"
      }
    },
    {
      "cell_type": "markdown",
      "source": [
        "The hotel booking analysis project aims to explore and understand various aspects of the hotel industry, including booking trends, customer preferences, and market dynamics. By examining historical data and patterns, this analysis seeks to provide valuable insights to inform strategic decisions and optimize revenue generation for hotels.\n",
        "\n",
        "**Key Components of the Analysis:**\n",
        "\n",
        "**Booking Trends:** Analyzing historical booking data to identify patterns such as peak seasons, fluctuations in demand, and trends in booking volume. Factors such as seasonality, holidays, and major events will be examined to understand their impact on booking behavior.\n",
        "\n",
        "**Customer Segmentation:** Segmenting customers based on demographics, behavior, and preferences to develop targeted marketing strategies and personalized offerings. By understanding the distinct needs and preferences of different customer segments, hotels can enhance customer satisfaction and loyalty.\n",
        "\n",
        "**Channel Performance:** Evaluating the performance of various booking channels, including direct bookings, online travel agencies (OTAs), and third-party platforms. This analysis will help hotels optimize their distribution strategies and allocate resources effectively to maximize bookings and revenue.\n",
        "\n",
        "**Cancellation Rates:** Analyzing cancellation rates to identify potential areas for improvement in booking policies, pricing strategies, or customer service. High cancellation rates may indicate issues with the booking process or dissatisfaction among customers, requiring remedial action.\n",
        "Revenue Management: Implementing revenue management techniques to optimize pricing, inventory allocation, and distribution channels. This includes dynamic pricing strategies, demand forecasting, and competitor analysis to maximize revenue and profitability.\n",
        "\n",
        "**Competitor Analysis**: Monitoring competitors' pricing, offerings, and marketing strategies to identify strengths, weaknesses, and opportunities for differentiation. Understanding competitor positioning and market trends is crucial for hotels to maintain a competitive edge in the industry.\n",
        "\n",
        "**Customer Satisfaction:** Assessing customer satisfaction through feedback, reviews, and ratings to identify areas for improvement in service quality and guest experience. By addressing customer concerns and enhancing the overall guest experience, hotels can build long-term loyalty and reputation."
      ],
      "metadata": {
        "id": "F6v_1wHtG2nS"
      }
    },
    {
      "cell_type": "markdown",
      "source": [
        "# **GitHub Link -**"
      ],
      "metadata": {
        "id": "w6K7xa23Elo4"
      }
    },
    {
      "cell_type": "markdown",
      "source": [
        "Provide your GitHub Link here."
      ],
      "metadata": {
        "id": "h1o69JH3Eqqn"
      }
    },
    {
      "cell_type": "markdown",
      "source": [
        "# **Problem Statement**\n"
      ],
      "metadata": {
        "id": "yQaldy8SH6Dl"
      }
    },
    {
      "cell_type": "markdown",
      "source": [
        "**Write Problem Statement Here.**\n",
        "Despite leveraging insights from hotel data, the hospitality industry faces persistent challenges such as high cancellation rates, low customer retention, and over-reliance on single booking channels. These issues hinder hotels' growth and success in the competitive market landscape. Addressing these challenges requires practical solutions to improve operational efficiency and enhance guest experience."
      ],
      "metadata": {
        "id": "DpeJGUA3kjGy"
      }
    },
    {
      "cell_type": "markdown",
      "source": [
        "#### **Define Your Business Objective?**"
      ],
      "metadata": {
        "id": "PH-0ReGfmX4f"
      }
    },
    {
      "cell_type": "markdown",
      "source": [
        "**Answer -** The objective of this project is to help hotels increase revenue and improve operations by reducing cancellation rates, increasing customer retention, diversifying booking channels, optimizing pricing strategies, and enhancing operational efficiency."
      ],
      "metadata": {
        "id": "PhDvGCAqmjP1"
      }
    },
    {
      "cell_type": "markdown",
      "source": [
        "# **General Guidelines** : -  "
      ],
      "metadata": {
        "id": "mDgbUHAGgjLW"
      }
    },
    {
      "cell_type": "markdown",
      "source": [
        "1.   Well-structured, formatted, and commented code is required.\n",
        "2.   Exception Handling, Production Grade Code & Deployment Ready Code will be a plus. Those students will be awarded some additional credits.\n",
        "     \n",
        "     The additional credits will have advantages over other students during Star Student selection.\n",
        "       \n",
        "             [ Note: - Deployment Ready Code is defined as, the whole .ipynb notebook should be executable in one go\n",
        "                       without a single error logged. ]\n",
        "\n",
        "3.   Each and every logic should have proper comments.\n",
        "4. You may add as many number of charts you want. Make Sure for each and every chart the following format should be answered.\n",
        "        \n",
        "\n",
        "```\n",
        "# Chart visualization code\n",
        "```\n",
        "            \n",
        "\n",
        "*   Why did you pick the specific chart?\n",
        "*   What is/are the insight(s) found from the chart?\n",
        "* Will the gained insights help creating a positive business impact?\n",
        "Are there any insights that lead to negative growth? Justify with specific reason.\n",
        "\n",
        "5. You have to create at least 20 logical & meaningful charts having important insights.\n",
        "\n",
        "\n",
        "[ Hints : - Do the Vizualization in  a structured way while following \"UBM\" Rule.\n",
        "\n",
        "U - Univariate Analysis,\n",
        "\n",
        "B - Bivariate Analysis (Numerical - Categorical, Numerical - Numerical, Categorical - Categorical)\n",
        "\n",
        "M - Multivariate Analysis\n",
        " ]\n",
        "\n",
        "\n",
        "\n"
      ],
      "metadata": {
        "id": "ZrxVaUj-hHfC"
      }
    },
    {
      "cell_type": "markdown",
      "source": [
        "# ***Let's Begin !***"
      ],
      "metadata": {
        "id": "O_i_v8NEhb9l"
      }
    },
    {
      "cell_type": "markdown",
      "source": [
        "## ***1. Know Your Data***"
      ],
      "metadata": {
        "id": "HhfV-JJviCcP"
      }
    },
    {
      "cell_type": "markdown",
      "source": [
        "### Import Libraries"
      ],
      "metadata": {
        "id": "Y3lxredqlCYt"
      }
    },
    {
      "cell_type": "code",
      "source": [
        "# Import Libraries\n",
        "import numpy as np\n",
        "import pandas as pd\n",
        "import math\n",
        "from numpy import loadtxt\n",
        "import seaborn as sns\n",
        "import matplotlib.pyplot as plt\n"
      ],
      "metadata": {
        "id": "M8Vqi-pPk-HR"
      },
      "execution_count": null,
      "outputs": []
    },
    {
      "cell_type": "markdown",
      "source": [
        "### Dataset Loading"
      ],
      "metadata": {
        "id": "3RnN4peoiCZX"
      }
    },
    {
      "cell_type": "code",
      "source": [
        "# Load Dataset\n",
        "df_dataset = pd.read_csv(\"/content/drive/MyDrive/Hotel Bookings.csv\")\n"
      ],
      "metadata": {
        "id": "4CkvbW_SlZ_R"
      },
      "execution_count": null,
      "outputs": []
    },
    {
      "cell_type": "markdown",
      "source": [
        "### Dataset First View"
      ],
      "metadata": {
        "id": "x71ZqKXriCWQ"
      }
    },
    {
      "cell_type": "code",
      "source": [
        "# Dataset First Look\n",
        "df_dataset.head()"
      ],
      "metadata": {
        "id": "LWNFOSvLl09H"
      },
      "execution_count": null,
      "outputs": []
    },
    {
      "cell_type": "markdown",
      "source": [
        "### Dataset Rows & Columns count"
      ],
      "metadata": {
        "id": "7hBIi_osiCS2"
      }
    },
    {
      "cell_type": "code",
      "source": [
        "# Dataset Rows & Columns count\n",
        "df_dataset.shape"
      ],
      "metadata": {
        "id": "Kllu7SJgmLij"
      },
      "execution_count": null,
      "outputs": []
    },
    {
      "cell_type": "markdown",
      "source": [
        "### Dataset Information"
      ],
      "metadata": {
        "id": "JlHwYmJAmNHm"
      }
    },
    {
      "cell_type": "code",
      "source": [
        "# Dataset Info\n",
        "df_dataset.info()\n"
      ],
      "metadata": {
        "id": "e9hRXRi6meOf"
      },
      "execution_count": null,
      "outputs": []
    },
    {
      "cell_type": "markdown",
      "source": [
        "#### Duplicate Values"
      ],
      "metadata": {
        "id": "35m5QtbWiB9F"
      }
    },
    {
      "cell_type": "code",
      "source": [
        "# Dataset Duplicate Value Count\n",
        "num_duplicates = df_dataset.duplicated().sum()\n",
        "print(\"Number of duplicate rows:\", num_duplicates)"
      ],
      "metadata": {
        "id": "1sLdpKYkmox0"
      },
      "execution_count": null,
      "outputs": []
    },
    {
      "cell_type": "markdown",
      "source": [
        "#### Missing Values/Null Values"
      ],
      "metadata": {
        "id": "PoPl-ycgm1ru"
      }
    },
    {
      "cell_type": "code",
      "source": [
        "# Missing Values/Null Values Count\n",
        "Null_values = df_dataset.isnull().sum()\n",
        "print(\"Number of Null values:\",Null_values)\n"
      ],
      "metadata": {
        "id": "GgHWkxvamxVg"
      },
      "execution_count": null,
      "outputs": []
    },
    {
      "cell_type": "code",
      "source": [
        "# Visualizing the missing values\n",
        "sns.heatmap(df_dataset.isnull(), cbar=False, cmap ='YlGnBu')\n",
        "plt.title('Missing Values in the Dataset')\n",
        "plt.show()\n"
      ],
      "metadata": {
        "id": "3q5wnI3om9sJ"
      },
      "execution_count": null,
      "outputs": []
    },
    {
      "cell_type": "markdown",
      "source": [
        "### What did you know about your dataset?"
      ],
      "metadata": {
        "id": "H0kj-8xxnORC"
      }
    },
    {
      "cell_type": "markdown",
      "source": [
        "Answer Here"
      ],
      "metadata": {
        "id": "gfoNAAC-nUe_"
      }
    },
    {
      "cell_type": "markdown",
      "source": [
        "## ***2. Understanding Your Variables***"
      ],
      "metadata": {
        "id": "nA9Y7ga8ng1Z"
      }
    },
    {
      "cell_type": "code",
      "source": [
        "# Dataset Columns\n",
        "df_dataset.columns\n"
      ],
      "metadata": {
        "id": "j7xfkqrt5Ag5"
      },
      "execution_count": null,
      "outputs": []
    },
    {
      "cell_type": "code",
      "source": [
        "# Dataset Describe\n",
        "df_dataset.describe(include='all')"
      ],
      "metadata": {
        "id": "DnOaZdaE5Q5t"
      },
      "execution_count": null,
      "outputs": []
    },
    {
      "cell_type": "markdown",
      "source": [
        "### Variables Description"
      ],
      "metadata": {
        "id": "PBTbrJXOngz2"
      }
    },
    {
      "cell_type": "markdown",
      "source": [
        "Answer Here"
      ],
      "metadata": {
        "id": "aJV4KIxSnxay"
      }
    },
    {
      "cell_type": "markdown",
      "source": [
        "### Check Unique Values for each variable."
      ],
      "metadata": {
        "id": "u3PMJOP6ngxN"
      }
    },
    {
      "cell_type": "code",
      "source": [
        "# Check Unique Values for each variable.\n",
        "for column in df_dataset.columns:\n",
        "    unique_values = df_dataset[column].unique()\n",
        "    print(f\"Unique values in {column}:\", len(unique_values))"
      ],
      "metadata": {
        "id": "zms12Yq5n-jE"
      },
      "execution_count": null,
      "outputs": []
    },
    {
      "cell_type": "markdown",
      "source": [
        "## 3. ***Data Wrangling***"
      ],
      "metadata": {
        "id": "dauF4eBmngu3"
      }
    },
    {
      "cell_type": "markdown",
      "source": [
        "### Data Wrangling Code"
      ],
      "metadata": {
        "id": "bKJF3rekwFvQ"
      }
    },
    {
      "cell_type": "code",
      "source": [
        "# check missing values\n",
        "df_dataset.isnull().sum().sort_values(ascending = False)"
      ],
      "metadata": {
        "id": "jqE0L_Hj5uU2"
      },
      "execution_count": null,
      "outputs": []
    },
    {
      "cell_type": "markdown",
      "source": [
        "Since the 'company' and 'agent' columns contain company numbers and agent numbers as data, there may be cases where customers didn't book a hotel via any agent or company, resulting in null values under these columns. In such cases, we replace the null values in the 'company' column with 'unknown' and the null values in the 'agent' column with 'no agent'. Additionally, there are also some null values in the 'country' column, so we fill those null values with 'No name'."
      ],
      "metadata": {
        "id": "mmQqgETJ59np"
      }
    },
    {
      "cell_type": "code",
      "source": [
        "# Write your code to make your dataset analysis ready.\n",
        "\n",
        "# null values fill with No name in country colunm\n",
        "df_dataset['country'].fillna('No name', inplace=True)\n"
      ],
      "metadata": {
        "id": "wk-9a2fpoLcV"
      },
      "execution_count": null,
      "outputs": []
    },
    {
      "cell_type": "code",
      "source": [
        "# null values fill with Unknown in company colunm\n",
        "df_dataset['company'].fillna('Unknown', inplace=True)"
      ],
      "metadata": {
        "id": "-od2vm5fkayE"
      },
      "execution_count": null,
      "outputs": []
    },
    {
      "cell_type": "code",
      "source": [
        "# null values present in agent colunm fill with no agent by (fillna)method\n",
        "df_dataset['agent'].fillna('No agent', inplace=True)"
      ],
      "metadata": {
        "id": "NjaDJzAHkgw3"
      },
      "execution_count": null,
      "outputs": []
    },
    {
      "cell_type": "code",
      "source": [
        "df_dataset['children'].unique()"
      ],
      "metadata": {
        "id": "8KXnZK9R8Eqe"
      },
      "execution_count": null,
      "outputs": []
    },
    {
      "cell_type": "markdown",
      "source": [
        "This column 'children' has 0 as value which means 0 children were present in group of customers who made that transaction. So, 'nan' values are the missing values due to error of recording data.\n",
        "\n",
        "We will replace the null values under this column with mean value of children."
      ],
      "metadata": {
        "id": "DE0531KQ8VLT"
      }
    },
    {
      "cell_type": "code",
      "source": [
        "df_dataset['children'].fillna(df_dataset['children'].mean(), inplace = True)"
      ],
      "metadata": {
        "id": "9KXJ7s588Xjj"
      },
      "execution_count": null,
      "outputs": []
    },
    {
      "cell_type": "code",
      "source": [
        "# Checking if all null values are removed\n",
        "df_dataset.isnull().sum().sort_values(ascending = False)[:6]"
      ],
      "metadata": {
        "id": "mh-jacM48vkd"
      },
      "execution_count": null,
      "outputs": []
    },
    {
      "cell_type": "markdown",
      "source": [
        "There are some rows with total number of adults, children or babies equal to zero. So we will remove such rows."
      ],
      "metadata": {
        "id": "SlUvZ9AP8_l8"
      }
    },
    {
      "cell_type": "code",
      "source": [
        "df_dataset.drop(df_dataset[df_dataset['adults'] + df_dataset['babies'] + df_dataset['children'] == 0].index, inplace = True)"
      ],
      "metadata": {
        "id": "n8Rw-Sng9DWR"
      },
      "execution_count": null,
      "outputs": []
    },
    {
      "cell_type": "code",
      "source": [
        "# Visulization of data\n",
        "df_dataset"
      ],
      "metadata": {
        "id": "-XxT1JQH9Txp"
      },
      "execution_count": null,
      "outputs": []
    },
    {
      "cell_type": "markdown",
      "source": [
        "# **Converting columns to appropriate datatypes.**"
      ],
      "metadata": {
        "id": "RRUb60fS-Tyc"
      }
    },
    {
      "cell_type": "code",
      "source": [
        "# changing datatype of column 'reservation_status_date' to data_type.\n",
        "df_dataset['reservation_status_date'] = pd.to_datetime(df_dataset['reservation_status_date'], format = '%Y-%m-%d')"
      ],
      "metadata": {
        "id": "8B5z8MhP9t4K"
      },
      "execution_count": null,
      "outputs": []
    },
    {
      "cell_type": "markdown",
      "source": [
        "# **Add appropriate column to combine some column**"
      ],
      "metadata": {
        "id": "fXjYXT_x_N7P"
      }
    },
    {
      "cell_type": "code",
      "source": [
        "# Adding total staying days in hotels\n",
        "df_dataset['total_stay'] = df_dataset['stays_in_weekend_nights'] + df_dataset['stays_in_week_nights']\n",
        "\n",
        "# Adding total people num as column, i.e. total people num = num of adults + children + babies\n",
        "df_dataset['total_people'] = df_dataset['adults'] + df_dataset['children'] + df_dataset['babies']"
      ],
      "metadata": {
        "id": "LBZp8H0s_OsJ"
      },
      "execution_count": null,
      "outputs": []
    },
    {
      "cell_type": "markdown",
      "source": [
        "## ***4. Data Vizualization, Storytelling & Experimenting with charts : Understand the relationships between variables***"
      ],
      "metadata": {
        "id": "GF8Ens_Soomf"
      }
    },
    {
      "cell_type": "markdown",
      "source": [
        "#### Chart - 1"
      ],
      "metadata": {
        "id": "0wOQAZs5pc--"
      }
    },
    {
      "cell_type": "code",
      "source": [
        "# Chart - 1 visualization code\n",
        "canceled_counts = df_dataset['is_canceled'].value_counts()\n",
        "\n",
        "# Create a pie chart\n",
        "plt.pie(canceled_counts, labels=canceled_counts.index, autopct='%1.1f%%', colors=['lightblue', 'lightcoral'], startangle=90)\n",
        "\n",
        "# Add title\n",
        "plt.title('Distribution of Canceled and Not Canceled Bookings')\n",
        "\n",
        "# Equal aspect ratio ensures that pie is drawn as a circle\n",
        "plt.axis('equal')\n",
        "\n",
        "# Show the plot\n",
        "plt.show()\n"
      ],
      "metadata": {
        "id": "7v_ESjsspbW7"
      },
      "execution_count": null,
      "outputs": []
    },
    {
      "cell_type": "markdown",
      "source": [
        "##### 1. Why did you pick the specific chart?"
      ],
      "metadata": {
        "id": "K5QZ13OEpz2H"
      }
    },
    {
      "cell_type": "markdown",
      "source": [
        "Answer Here.\n",
        "I chose the pie chart for visualizing the distribution of canceled and not-canceled bookings because it effectively represents proportions and provides a clear visual comparison between the two categories."
      ],
      "metadata": {
        "id": "XESiWehPqBRc"
      }
    },
    {
      "cell_type": "markdown",
      "source": [
        "##### 2. What is/are the insight(s) found from the chart?"
      ],
      "metadata": {
        "id": "lQ7QKXXCp7Bj"
      }
    },
    {
      "cell_type": "markdown",
      "source": [
        "Answer Here -\n",
        "pie chart depicting the distribution of canceled and not-canceled bookings provides valuable insights into cancellation rates, revenue implications, operational considerations, customer behavior, and temporal trends, enabling hotels to make informed decisions and implement targeted strategies to improve performance and profitability."
      ],
      "metadata": {
        "id": "C_j1G7yiqdRP"
      }
    },
    {
      "cell_type": "markdown",
      "source": [
        "##### 3. Will the gained insights help creating a positive business impact?\n",
        "Are there any insights that lead to negative growth? Justify with specific reason."
      ],
      "metadata": {
        "id": "448CDAPjqfQr"
      }
    },
    {
      "cell_type": "markdown",
      "source": [
        "Answer Here - The insights gained from analyzing the distribution of canceled and not-canceled bookings can indeed lead to positive business impacts if utilized effectively. However, there are also potential insights that, if not addressed appropriately, could result in negative growth."
      ],
      "metadata": {
        "id": "3cspy4FjqxJW"
      }
    },
    {
      "cell_type": "markdown",
      "source": [
        "#### Chart - 2"
      ],
      "metadata": {
        "id": "KSlN3yHqYklG"
      }
    },
    {
      "cell_type": "code",
      "source": [
        "# Chart - 2 visualization code\n",
        "# Histogram for vizulization of lead time:\n",
        "lead_time_data = df_dataset['lead_time']\n",
        "plt.hist(lead_time_data, bins=30, color='skyblue', edgecolor='black')\n",
        "\n",
        "# Add labels and title\n",
        "plt.xlabel('Lead Time (Days)')\n",
        "plt.ylabel('Frequency')\n",
        "plt.title('Distribution of Lead Times for Bookings')\n",
        "\n",
        "# Show the plot\n",
        "plt.show()"
      ],
      "metadata": {
        "id": "R4YgtaqtYklH"
      },
      "execution_count": null,
      "outputs": []
    },
    {
      "cell_type": "markdown",
      "source": [
        "##### 1. Why did you pick the specific chart?"
      ],
      "metadata": {
        "id": "t6dVpIINYklI"
      }
    },
    {
      "cell_type": "markdown",
      "source": [
        "Answer Here. I chose a histogram to visualize the distribution of lead times for bookings because histograms are well-suited for displaying the frequency distribution of continuous data, such as lead times."
      ],
      "metadata": {
        "id": "5aaW0BYyYklI"
      }
    },
    {
      "cell_type": "markdown",
      "source": [
        "##### 2. What is/are the insight(s) found from the chart?"
      ],
      "metadata": {
        "id": "ijmpgYnKYklI"
      }
    },
    {
      "cell_type": "markdown",
      "source": [
        "Answer Here - Histogram can reveal the most common lead times for bookings, whether there are any outliers or unusual patterns in lead times, and the overall spread or variability of lead times."
      ],
      "metadata": {
        "id": "PSx9atu2YklI"
      }
    },
    {
      "cell_type": "markdown",
      "source": [
        "##### 3. Will the gained insights help creating a positive business impact?\n",
        "Are there any insights that lead to negative growth? Justify with specific reason."
      ],
      "metadata": {
        "id": "-JiQyfWJYklI"
      }
    },
    {
      "cell_type": "markdown",
      "source": [
        "Answer Here - By identifying peak periods of booking lead times, hotels can adjust staffing levels and inventory management to meet demand more effectively. Additionally, understanding the distribution of lead times can inform pricing strategies and promotional efforts to maximize revenue during high-demand periods."
      ],
      "metadata": {
        "id": "BcBbebzrYklV"
      }
    },
    {
      "cell_type": "markdown",
      "source": [
        "#### Chart - 3"
      ],
      "metadata": {
        "id": "EM7whBJCYoAo"
      }
    },
    {
      "cell_type": "code",
      "source": [
        "# Chart - 3 visualization code\n",
        "df3 = pd.DataFrame(grouped_by_hotel['days_in_waiting_list'].agg(np.mean).reset_index().rename(columns={'days_in_waiting_list': 'avg_waiting_period'}))\n",
        "\n",
        "# Plotting\n",
        "plt.figure(figsize=(8, 5))\n",
        "plt.bar(df3['hotel'], df3['avg_waiting_period'], color='skyblue')\n",
        "plt.xlabel('Hotel Type')\n",
        "plt.ylabel('Average Waiting Period (Days)')\n",
        "plt.title('Average Waiting Period by Hotel Type')\n",
        "plt.xticks(rotation=30)  # Rotate x-axis labels for better readability\n",
        "plt.show()"
      ],
      "metadata": {
        "id": "t6GMdE67YoAp"
      },
      "execution_count": null,
      "outputs": []
    },
    {
      "cell_type": "markdown",
      "source": [
        "##### 1. Why did you pick the specific chart?"
      ],
      "metadata": {
        "id": "fge-S5ZAYoAp"
      }
    },
    {
      "cell_type": "markdown",
      "source": [
        "Answer Here. To know about the average waiting periods(days) of hotels."
      ],
      "metadata": {
        "id": "5dBItgRVYoAp"
      }
    },
    {
      "cell_type": "markdown",
      "source": [
        "##### 2. What is/are the insight(s) found from the chart?"
      ],
      "metadata": {
        "id": "85gYPyotYoAp"
      }
    },
    {
      "cell_type": "markdown",
      "source": [
        "Answer Here - City hotel has significantly longer waiting time, hence City Hotel is much busier than Resort Hotel."
      ],
      "metadata": {
        "id": "4jstXR6OYoAp"
      }
    },
    {
      "cell_type": "markdown",
      "source": [
        "##### 3. Will the gained insights help creating a positive business impact?\n",
        "Are there any insights that lead to negative growth? Justify with specific reason."
      ],
      "metadata": {
        "id": "RoGjAbkUYoAp"
      }
    },
    {
      "cell_type": "markdown",
      "source": [
        "Answer Here -  While insights into the average waiting period can help hotels identify opportunities for improving customer experience and operational efficiency, failure to address long wait times can lead to negative growth outcomes, including loss of competitiveness and damage to reputation. It's essential for hotels to proactively address issues related to wait times to drive positive business outcomes and ensure long-term success in the hospitality industry."
      ],
      "metadata": {
        "id": "zfJ8IqMcYoAp"
      }
    },
    {
      "cell_type": "markdown",
      "source": [
        "#### Chart - 4"
      ],
      "metadata": {
        "id": "4Of9eVA-YrdM"
      }
    },
    {
      "cell_type": "code",
      "source": [
        "# Chart - 4 visualization code\n",
        "# Vizulization by BAR chart:\n",
        "grp_by_country = df_dataset.groupby('country')\n",
        "df = pd.DataFrame(grp_by_country.size()).rename(columns = {0:'no. of bookings'})\n",
        "df = df[ :10]\n",
        "sns.barplot(x = df.index, y = df['no. of bookings'])\n",
        "plt.show()"
      ],
      "metadata": {
        "id": "irlUoxc8YrdO"
      },
      "execution_count": null,
      "outputs": []
    },
    {
      "cell_type": "markdown",
      "source": [
        "##### 1. Why did you pick the specific chart?"
      ],
      "metadata": {
        "id": "iky9q4vBYrdO"
      }
    },
    {
      "cell_type": "markdown",
      "source": [
        "Answer Here. - To see from which countries most of the customers visit these hotels?"
      ],
      "metadata": {
        "id": "aJRCwT6DYrdO"
      }
    },
    {
      "cell_type": "markdown",
      "source": [
        "##### 2. What is/are the insight(s) found from the chart?"
      ],
      "metadata": {
        "id": "F6T5p64dYrdO"
      }
    },
    {
      "cell_type": "markdown",
      "source": [
        "Answer Here - Most of the customers from Angola and Argentina."
      ],
      "metadata": {
        "id": "Xx8WAJvtYrdO"
      }
    },
    {
      "cell_type": "markdown",
      "source": [
        "##### 3. Will the gained insights help creating a positive business impact?\n",
        "Are there any insights that lead to negative growth? Justify with specific reason."
      ],
      "metadata": {
        "id": "y-Ehk30pYrdP"
      }
    },
    {
      "cell_type": "markdown",
      "source": [
        "Answer Here - Knowing that most customers are from Angola and Argentina helps businesses advertise and offer services that these people like. This can make the business better and make more money. But if too many customers come from only these countries, the business might have trouble if something bad happens in those places. So, it's good for the business to also get customers from other countries to stay safe."
      ],
      "metadata": {
        "id": "jLNxxz7MYrdP"
      }
    },
    {
      "cell_type": "markdown",
      "source": [
        "#### Chart - 5"
      ],
      "metadata": {
        "id": "bamQiAODYuh1"
      }
    },
    {
      "cell_type": "code",
      "source": [
        "# Chart - 5 visualization code\n",
        "#Selecting and counting repeated customers bookings\n",
        "repeated_data = df_dataset[df_dataset['is_repeated_guest'] == 1]\n",
        "repeat_grp = repeated_data.groupby('hotel')\n",
        "total_repeated_guests = repeat_grp.size()\n",
        "\n",
        "# Counting total bookings\n",
        "total_booking = df_dataset.groupby('hotel').size()\n",
        "\n",
        "# Calculating repeat %\n",
        "repeat_percentage = (total_repeated_guests / total_booking) * 100\n",
        "\n",
        "# Plotting\n",
        "plt.figure(figsize=(10, 5))\n",
        "plt.bar(total_repeated_guests.index, repeat_percentage, color='pink')\n",
        "plt.xlabel('Hotel Type')\n",
        "plt.ylabel('Percentage of Repeated Guests')\n",
        "plt.title('Percentage of Repeated Guests by Hotel Type')\n",
        "plt.show()"
      ],
      "metadata": {
        "id": "TIJwrbroYuh3"
      },
      "execution_count": null,
      "outputs": []
    },
    {
      "cell_type": "markdown",
      "source": [
        "##### 1. Why did you pick the specific chart?"
      ],
      "metadata": {
        "id": "QHF8YVU7Yuh3"
      }
    },
    {
      "cell_type": "markdown",
      "source": [
        "Answer Here - I picked a  bar chart because it effectively displays the percentage of repeated guests for each hotel type in a clear and straightforward manner."
      ],
      "metadata": {
        "id": "-IsbrbnAfbgt"
      }
    },
    {
      "cell_type": "markdown",
      "source": [
        "##### 2. What is/are the insight(s) found from the chart?"
      ],
      "metadata": {
        "id": "GwzvFGzlYuh3"
      }
    },
    {
      "cell_type": "markdown",
      "source": [
        "Answer Here - We see their is high percentage of repeated guests in resort hotels."
      ],
      "metadata": {
        "id": "uyqkiB8YYuh3"
      }
    },
    {
      "cell_type": "markdown",
      "source": [
        "##### 3. Will the gained insights help creating a positive business impact?\n",
        "Are there any insights that lead to negative growth? Justify with specific reason."
      ],
      "metadata": {
        "id": "qYpmQ266Yuh3"
      }
    },
    {
      "cell_type": "markdown",
      "source": [
        "Answer Here - Hotels with higher percentages of repeated guests may focus on enhancing their loyalty programs, personalized marketing efforts, and customer service initiatives to further strengthen customer relationships and encourage repeat business. Hotels with lower percentages of repeated guests may experience decreased revenue and market share if they fail to address underlying issues affecting customer retention."
      ],
      "metadata": {
        "id": "_WtzZ_hCYuh4"
      }
    },
    {
      "cell_type": "markdown",
      "source": [
        "#### Chart - 6"
      ],
      "metadata": {
        "id": "OH-pJp9IphqM"
      }
    },
    {
      "cell_type": "code",
      "source": [
        "# Chart - 6 visualization code\n",
        "agent_counts = df_dataset['agent'].value_counts().nlargest(10)  # Change 10 to the desired number of top agents\n",
        "\n",
        "# Plotting\n",
        "plt.figure(figsize=(12, 6))\n",
        "agent_counts.plot(kind='bar', color='purple')\n",
        "plt.xlabel('Agent')\n",
        "plt.ylabel('Number of Bookings')\n",
        "plt.title('Number of Bookings per Agent')\n",
        "plt.xticks(rotation=90)  # Rotate x-axis labels for better readability\n",
        "plt.tight_layout()  # Adjust layout to prevent overlapping labels\n",
        "plt.show()"
      ],
      "metadata": {
        "id": "kuRf4wtuphqN"
      },
      "execution_count": null,
      "outputs": []
    },
    {
      "cell_type": "markdown",
      "source": [
        "##### 1. Why did you pick the specific chart?"
      ],
      "metadata": {
        "id": "bbFf2-_FphqN"
      }
    },
    {
      "cell_type": "markdown",
      "source": [
        "Answer Here.  A bar plot is suitable for visualizing categorical data like agents and their respective counts."
      ],
      "metadata": {
        "id": "loh7H2nzphqN"
      }
    },
    {
      "cell_type": "markdown",
      "source": [
        "##### 2. What is/are the insight(s) found from the chart?"
      ],
      "metadata": {
        "id": "_ouA3fa0phqN"
      }
    },
    {
      "cell_type": "markdown",
      "source": [
        "Answer Here - Identification of the top agents with the most bookings: The chart highlights which agents are responsible for the highest number of bookings."
      ],
      "metadata": {
        "id": "VECbqPI7phqN"
      }
    },
    {
      "cell_type": "markdown",
      "source": [
        "##### 3. Will the gained insights help creating a positive business impact?\n",
        "Are there any insights that lead to negative growth? Justify with specific reason."
      ],
      "metadata": {
        "id": "Seke61FWphqN"
      }
    },
    {
      "cell_type": "markdown",
      "source": [
        "Answer Here - Identifying top-performing agents allows hotels to nurture these relationships and potentially negotiate better terms or incentives, leading to increased bookings and revenue."
      ],
      "metadata": {
        "id": "DW4_bGpfphqN"
      }
    },
    {
      "cell_type": "markdown",
      "source": [
        "#### Chart - 7"
      ],
      "metadata": {
        "id": "PIIx-8_IphqN"
      }
    },
    {
      "cell_type": "code",
      "source": [
        "# Chart - 7 visualization code\n",
        "# Vizulization by BAR chat:\n",
        "grouped_by_hotel = df_dataset.groupby('hotel')\n",
        "d1 = pd.DataFrame((grouped_by_hotel.size()/df.shape[0])*100).reset_index().rename(columns = {0:'Booking %'})      #Calculating percentage\n",
        "plt.figure(figsize = (8,5))\n",
        "sns.barplot(x = d1['hotel'], y = d1['Booking %'] )\n",
        "plt.show()"
      ],
      "metadata": {
        "id": "lqAIGUfyphqO"
      },
      "execution_count": null,
      "outputs": []
    },
    {
      "cell_type": "markdown",
      "source": [
        "##### 1. Why did you pick the specific chart?"
      ],
      "metadata": {
        "id": "t27r6nlMphqO"
      }
    },
    {
      "cell_type": "markdown",
      "source": [
        "Answer Here. To know about the percentage of bookings in each hotels(City hotels and Resort hotels)."
      ],
      "metadata": {
        "id": "iv6ro40sphqO"
      }
    },
    {
      "cell_type": "markdown",
      "source": [
        "##### 2. What is/are the insight(s) found from the chart?"
      ],
      "metadata": {
        "id": "r2jJGEOYphqO"
      }
    },
    {
      "cell_type": "markdown",
      "source": [
        "Answer Here - Their are couples of people who likes to stay in city hotels."
      ],
      "metadata": {
        "id": "Po6ZPi4hphqO"
      }
    },
    {
      "cell_type": "markdown",
      "source": [
        "##### 3. Will the gained insights help creating a positive business impact?\n",
        "Are there any insights that lead to negative growth? Justify with specific reason."
      ],
      "metadata": {
        "id": "b0JNsNcRphqO"
      }
    },
    {
      "cell_type": "markdown",
      "source": [
        "Answer Here - The insight that there are couples of people who prefer to stay in city hotels can indeed have a positive business impact. Understanding the preferences of customers allows hotels to tailor their offerings and services to better meet the needs and expectations of their target market. By focusing on city hotels and catering to the preferences of customers who prefer urban accommodations, hotels can potentially attract more guests, improve occupancy rates, and increase revenue.\n",
        "However, solely focusing on city hotels and neglecting the demand for resort hotels could potentially lead to negative growth."
      ],
      "metadata": {
        "id": "xvSq8iUTphqO"
      }
    },
    {
      "cell_type": "markdown",
      "source": [
        "#### Chart - 8"
      ],
      "metadata": {
        "id": "BZR9WyysphqO"
      }
    },
    {
      "cell_type": "code",
      "source": [
        "# Chart - 8 visualization code\n",
        "# Convert 'reservation_status_date' column to datetime format\n",
        "df_dataset['reservation_status_date'] = pd.to_datetime(df_dataset['reservation_status_date'])\n",
        "\n",
        "# Sort DataFrame by 'reservation_status_date'\n",
        "df_sorted = df_dataset.sort_values(by='reservation_status_date')\n",
        "\n",
        "# Group by 'reservation_status_date' and 'reservation_status', and count the number of occurrences\n",
        "status_counts = df_sorted.groupby(['reservation_status_date', 'reservation_status']).size().unstack(fill_value=0)\n",
        "\n",
        "# Plotting\n",
        "plt.figure(figsize=(12, 6))\n",
        "\n",
        "# Plot each reservation status separately\n",
        "for status in status_counts.columns:\n",
        "    plt.plot(status_counts.index, status_counts[status], marker='o', label=status, linewidth=2)\n",
        "\n",
        "plt.xlabel('Date')\n",
        "plt.ylabel('Number of Bookings')\n",
        "plt.title('Trend of Reservation Status Over Time')\n",
        "plt.legend(title='Reservation Status')\n",
        "plt.grid(True)\n",
        "plt.tight_layout()\n",
        "plt.show()"
      ],
      "metadata": {
        "id": "TdPTWpAVphqO"
      },
      "execution_count": null,
      "outputs": []
    },
    {
      "cell_type": "markdown",
      "source": [
        "##### 1. Why did you pick the specific chart?"
      ],
      "metadata": {
        "id": "jj7wYXLtphqO"
      }
    },
    {
      "cell_type": "markdown",
      "source": [
        "Answer Here. line chart is indeed an appropriate choice for visualizing trends over time\n"
      ],
      "metadata": {
        "id": "Ob8u6rCTphqO"
      }
    },
    {
      "cell_type": "markdown",
      "source": [
        "##### 2. What is/are the insight(s) found from the chart?"
      ],
      "metadata": {
        "id": "eZrbJ2SmphqO"
      }
    },
    {
      "cell_type": "markdown",
      "source": [
        "Answer Here - Their is high number of canceled booking in between 2015 to 2016."
      ],
      "metadata": {
        "id": "mZtgC_hjphqO"
      }
    },
    {
      "cell_type": "markdown",
      "source": [
        "##### 3. Will the gained insights help creating a positive business impact?\n",
        "Are there any insights that lead to negative growth? Justify with specific reason."
      ],
      "metadata": {
        "id": "rFu4xreNphqO"
      }
    },
    {
      "cell_type": "markdown",
      "source": [
        "Answer Here - By analyzing the trend of reservation status over time, hotels can gain insights into booking patterns, such as peak booking periods, seasonal variations, and overall booking trends. Understanding these patterns allows hotels to better allocate resources, adjust staffing levels, and optimize inventory management to meet fluctuating demand effectively.\n",
        "\n",
        "A persistent upward trend in the number of canceled bookings over time may indicate issues with the booking process, dissatisfaction with hotel services, or external factors affecting travel plans."
      ],
      "metadata": {
        "id": "ey_0qi68phqO"
      }
    },
    {
      "cell_type": "markdown",
      "source": [
        "#### Chart - 9"
      ],
      "metadata": {
        "id": "YJ55k-q6phqO"
      }
    },
    {
      "cell_type": "code",
      "source": [
        "# Chart - 9 visualization code\n",
        "group_by_dc = df_dataset.groupby('distribution_channel')\n",
        "chart = pd.DataFrame(round(group_by_dc['lead_time'].median(),2)).reset_index().rename(columns = {'lead_time': 'median_lead_time'})\n",
        "plt.figure(figsize = (7,5))\n",
        "sns.barplot(x = chart['distribution_channel'], y = chart['median_lead_time'])\n",
        "plt.show()\n",
        ""
      ],
      "metadata": {
        "id": "B2aS4O1ophqO"
      },
      "execution_count": null,
      "outputs": []
    },
    {
      "cell_type": "markdown",
      "source": [
        "##### 1. Why did you pick the specific chart?"
      ],
      "metadata": {
        "id": "gCFgpxoyphqP"
      }
    },
    {
      "cell_type": "markdown",
      "source": [
        "Answer Here. To see which channel is mostly used for early booking of hotels"
      ],
      "metadata": {
        "id": "TVxDimi2phqP"
      }
    },
    {
      "cell_type": "markdown",
      "source": [
        "##### 2. What is/are the insight(s) found from the chart?"
      ],
      "metadata": {
        "id": "OVtJsKN_phqQ"
      }
    },
    {
      "cell_type": "markdown",
      "source": [
        "Answer Here - TA/TO is mostly used for planning Hotel visits ahead of time. But for sudden visits other mediums are most preferred."
      ],
      "metadata": {
        "id": "ngGi97qjphqQ"
      }
    },
    {
      "cell_type": "markdown",
      "source": [
        "##### 3. Will the gained insights help creating a positive business impact?\n",
        "Are there any insights that lead to negative growth? Justify with specific reason."
      ],
      "metadata": {
        "id": "lssrdh5qphqQ"
      }
    },
    {
      "cell_type": "markdown",
      "source": [
        "Answer Here -  Knowing that most people use travel agents or online travel agencies (TA/TO) to plan hotel visits in advance can help hotels tailor their marketing strategies and partnerships to reach potential guests during the planning phase. This insight could lead to positive impacts such as increased bookings and revenue. However, relying solely on TA/TO for bookings may limit the hotel's visibility to spontaneous travelers who prefer other mediums. If hotels don't adapt to reach these customers through alternative channels, they may miss out on potential revenue opportunities, leading to negative growth."
      ],
      "metadata": {
        "id": "tBpY5ekJphqQ"
      }
    },
    {
      "cell_type": "markdown",
      "source": [
        "#### Chart - 10"
      ],
      "metadata": {
        "id": "U2RJ9gkRphqQ"
      }
    },
    {
      "cell_type": "code",
      "source": [
        "# Chart - 10 visualization code\n",
        "# Grouping by hotel type and calculating the sum of adults, children, and babies\n",
        "guest_counts = df_dataset.groupby('hotel')[['adults', 'children', 'babies']].sum()\n",
        "\n",
        "# Plotting\n",
        "guest_counts.plot(kind='bar', stacked=True, figsize=(10, 6))\n",
        "plt.xlabel('Hotel Type')\n",
        "plt.ylabel('Number of Guests')\n",
        "plt.title('Distribution of Guests by Hotel Type')\n",
        "plt.xticks(rotation=0)\n",
        "plt.legend(title='Guest Type')\n",
        "plt.tight_layout()\n",
        "plt.show()"
      ],
      "metadata": {
        "id": "GM7a4YP4phqQ"
      },
      "execution_count": null,
      "outputs": []
    },
    {
      "cell_type": "markdown",
      "source": [
        "##### 1. Why did you pick the specific chart?"
      ],
      "metadata": {
        "id": "1M8mcRywphqQ"
      }
    },
    {
      "cell_type": "markdown",
      "source": [
        "Answer Here. I chose to use a stacked bar chart to visualize the distribution of guests (adults, children, babies) by hotel type because it allows for a clear comparison of the total number of guests and the composition of guests (adults, children, babies) within each hotel type"
      ],
      "metadata": {
        "id": "8agQvks0phqQ"
      }
    },
    {
      "cell_type": "markdown",
      "source": [
        "##### 2. What is/are the insight(s) found from the chart?"
      ],
      "metadata": {
        "id": "tgIPom80phqQ"
      }
    },
    {
      "cell_type": "markdown",
      "source": [
        "Answer Here - By this chart we clearly see that adults have more stays in hotels in comparision to child and babies."
      ],
      "metadata": {
        "id": "Qp13pnNzphqQ"
      }
    },
    {
      "cell_type": "markdown",
      "source": [
        "##### 3. Will the gained insights help creating a positive business impact?\n",
        "Are there any insights that lead to negative growth? Justify with specific reason."
      ],
      "metadata": {
        "id": "JMzcOPDDphqR"
      }
    },
    {
      "cell_type": "markdown",
      "source": [
        "Answer Here - Understanding the demographic profile of guests in different hotel types allows hotels to tailor their marketing strategies and promotions to target specific customer segments effectively.\n",
        "\n",
        "If a hotel relies heavily on one demographic group (e.g., families with children) and neglects other potential guest segments, it may limit its market reach and growth opportunities."
      ],
      "metadata": {
        "id": "R4Ka1PC2phqR"
      }
    },
    {
      "cell_type": "markdown",
      "source": [
        "#### Chart - 11"
      ],
      "metadata": {
        "id": "x-EpHcCOp1ci"
      }
    },
    {
      "cell_type": "code",
      "source": [
        "# Chart - 11 visualization code\n",
        "# Grouping by arrival date month and calculating the count of bookings\n",
        "monthly_bookings = df_dataset.groupby('arrival_date_month').size().reset_index(name='bookings_count')\n",
        "\n",
        "# Sorting the data by month order\n",
        "months_order = ['January', 'February', 'March', 'April', 'May', 'June', 'July', 'August', 'September', 'October', 'November', 'December']\n",
        "monthly_bookings['arrival_date_month'] = pd.Categorical(monthly_bookings['arrival_date_month'], categories=months_order, ordered=True)\n",
        "monthly_bookings = monthly_bookings.sort_values('arrival_date_month')\n",
        "\n",
        "# Plotting\n",
        "plt.figure(figsize=(10, 6))\n",
        "sns.barplot(data=monthly_bookings, x='arrival_date_month', y='bookings_count', palette='viridis')\n",
        "plt.xlabel('Month')\n",
        "plt.ylabel('Number of Bookings')\n",
        "plt.title('Number of Bookings per Month')\n",
        "plt.xticks(rotation=45)\n",
        "plt.show()"
      ],
      "metadata": {
        "id": "mAQTIvtqp1cj"
      },
      "execution_count": null,
      "outputs": []
    },
    {
      "cell_type": "markdown",
      "source": [
        "##### 1. Why did you pick the specific chart?"
      ],
      "metadata": {
        "id": "X_VqEhTip1ck"
      }
    },
    {
      "cell_type": "markdown",
      "source": [
        "Answer Here. A bar chart is indeed suitable for visualizing the comparison of bookings in different months."
      ],
      "metadata": {
        "id": "-vsMzt_np1ck"
      }
    },
    {
      "cell_type": "markdown",
      "source": [
        "##### 2. What is/are the insight(s) found from the chart?"
      ],
      "metadata": {
        "id": "8zGJKyg5p1ck"
      }
    },
    {
      "cell_type": "markdown",
      "source": [
        "Answer Here - By this chart we clearly that couples of people like to stay in hotels in august."
      ],
      "metadata": {
        "id": "ZYdMsrqVp1ck"
      }
    },
    {
      "cell_type": "markdown",
      "source": [
        "##### 3. Will the gained insights help creating a positive business impact?\n",
        "Are there any insights that lead to negative growth? Justify with specific reason."
      ],
      "metadata": {
        "id": "PVzmfK_Ep1ck"
      }
    },
    {
      "cell_type": "markdown",
      "source": [
        "Answer Here - Understanding the booking patterns across different months provides insights into seasonal demand fluctuations. This information can help hotels better anticipate peak seasons and adjust their marketing strategies, pricing, and staffing levels accordingly.\n",
        "\n",
        "If there are significant disparities in booking volumes across different months, it may indicate seasonal vulnerabilities or challenges. For example, if a hotel experiences a sharp decline in bookings during the off-peak season, it could lead to revenue loss and decreased profitability."
      ],
      "metadata": {
        "id": "druuKYZpp1ck"
      }
    },
    {
      "cell_type": "markdown",
      "source": [
        "#### Chart - 12"
      ],
      "metadata": {
        "id": "n3dbpmDWp1ck"
      }
    },
    {
      "cell_type": "code",
      "source": [
        "# Chart - 12 visualization code\n",
        "group_by_dc_hotel = df_dataset.groupby(['distribution_channel', 'hotel'])\n",
        "d5 = pd.DataFrame(round((group_by_dc_hotel['adr']).agg(np.mean),2)).reset_index().rename(columns = {'adr': 'avg_adr'})\n",
        "plt.figure(figsize = (7,5))\n",
        "sns.barplot(x = d5['distribution_channel'], y = d5['avg_adr'], hue = d5['hotel'])\n",
        "plt.ylim(40,140)\n",
        "plt.show()\n",
        ""
      ],
      "metadata": {
        "id": "bwevp1tKp1ck"
      },
      "execution_count": null,
      "outputs": []
    },
    {
      "cell_type": "markdown",
      "source": [
        "##### 1. Why did you pick the specific chart?"
      ],
      "metadata": {
        "id": "ylSl6qgtp1ck"
      }
    },
    {
      "cell_type": "markdown",
      "source": [
        "Answer Here.  To See which distribution channel brings better revenue generating deals for hotels"
      ],
      "metadata": {
        "id": "m2xqNkiQp1ck"
      }
    },
    {
      "cell_type": "markdown",
      "source": [
        "##### 2. What is/are the insight(s) found from the chart?"
      ],
      "metadata": {
        "id": "ZWILFDl5p1ck"
      }
    },
    {
      "cell_type": "markdown",
      "source": [
        "Answer Here - GDS channel brings higher revenue generating deals for City hotel, in contrast to that most bookings come via TA/TO. City Hotel can work to increase outreach on GDS channels to get more higher revenue generating deals.\n",
        "\n",
        "Resort hotel has more revnue generating deals by direct and TA/TO channel. Resort Hotel need to increase outreach on GDS channel to increase revenue."
      ],
      "metadata": {
        "id": "x-lUsV2mp1ck"
      }
    },
    {
      "cell_type": "markdown",
      "source": [
        "# 3. Will the gained insights help creating a positive business impact?\n",
        "\n",
        " Are there any insights that lead to negative growth? Justify with specific reason."
      ],
      "metadata": {
        "id": "z49k_u1zkCnF"
      }
    },
    {
      "cell_type": "markdown",
      "source": [
        "Answer - The insights suggest that both the City hotel and the Resort hotel can optimize their revenue by leveraging different booking channels. Focusing on GDS channels for the City hotel and increasing outreach on GDS for the Resort hotel can diversify their revenue streams and potentially increase profitability. However, over-reliance on a single channel may lead to vulnerability if market conditions change or if there are disruptions in that channel. Therefore, while these insights can create positive business impacts in the short term, hotels should maintain a balanced approach to distribution channels to mitigate the risk of negative growth in the long te"
      ],
      "metadata": {
        "id": "WtujqwQ3j-Rx"
      }
    },
    {
      "cell_type": "markdown",
      "source": [
        "#### Chart - 13"
      ],
      "metadata": {
        "id": "Ag9LCva-p1cl"
      }
    },
    {
      "cell_type": "code",
      "source": [
        "# Chart - 13 visualization code\n",
        "data = grouped_by_hotel['lead_time'].median().reset_index().rename(columns = {'lead_time':'median_lead_time'})\n",
        "plt.figure(figsize = (8,5))\n",
        "sns.barplot(x = data['hotel'], y = data['median_lead_time'] )\n",
        "plt.show()"
      ],
      "metadata": {
        "id": "EUfxeq9-p1cl"
      },
      "execution_count": null,
      "outputs": []
    },
    {
      "cell_type": "markdown",
      "source": [
        "##### 1. Why did you pick the specific chart?"
      ],
      "metadata": {
        "id": "E6MkPsBcp1cl"
      }
    },
    {
      "cell_type": "markdown",
      "source": [
        "Answer Here. To know the median lead time for each hotel type."
      ],
      "metadata": {
        "id": "V22bRsFWp1cl"
      }
    },
    {
      "cell_type": "markdown",
      "source": [
        "##### 2. What is/are the insight(s) found from the chart?"
      ],
      "metadata": {
        "id": "2cELzS2fp1cl"
      }
    },
    {
      "cell_type": "markdown",
      "source": [
        "Answer Here - City hotel has slightly higher median lead time. Also median lead time is significantly higher in each case, this means customers generally plan their hotel visits way to early."
      ],
      "metadata": {
        "id": "ozQPc2_Ip1cl"
      }
    },
    {
      "cell_type": "markdown",
      "source": [
        "##### 3. Will the gained insights help creating a positive business impact?\n",
        "Are there any insights that lead to negative growth? Justify with specific reason."
      ],
      "metadata": {
        "id": "3MPXvC8up1cl"
      }
    },
    {
      "cell_type": "markdown",
      "source": [
        "Answer Here - Knowing that people book hotels early can help hotels plan better and advertise more effectively. But if hotels rely too much on early bookings, they might have problems if too many people book at once or if they can't change prices easily. It's important for hotels to find a balance between booking early and being flexible to make the most money."
      ],
      "metadata": {
        "id": "GL8l1tdLp1cl"
      }
    },
    {
      "cell_type": "markdown",
      "source": [
        "#### Chart - 14 - Correlation Heatmap"
      ],
      "metadata": {
        "id": "NC_X3p0fY2L0"
      }
    },
    {
      "cell_type": "code",
      "source": [
        "# Correlation Heatmap visualization code\n",
        "# Selecting relevant numerical columns\n",
        "numerical_columns = ['stays_in_weekend_nights', 'stays_in_week_nights', 'adults', 'children']\n",
        "\n",
        "# Creating a correlation matrix\n",
        "correlation_matrix = df_dataset[numerical_columns].corr()\n",
        "\n",
        "# Plotting the heatmap\n",
        "plt.figure(figsize=(10, 8))\n",
        "sns.heatmap(correlation_matrix, annot=True, cmap='coolwarm', linewidths=0.5)\n",
        "plt.title('Correlation Heatmap of Numerical Variables')\n",
        "plt.show()"
      ],
      "metadata": {
        "id": "xyC9zolEZNRQ"
      },
      "execution_count": null,
      "outputs": []
    },
    {
      "cell_type": "markdown",
      "source": [
        "##### 1. Why did you pick the specific chart?"
      ],
      "metadata": {
        "id": "UV0SzAkaZNRQ"
      }
    },
    {
      "cell_type": "markdown",
      "source": [
        "Answer Here. - The correlation heatmap was chosen because it provides a visual representation of the correlation coefficients between numerical variables in the dataset."
      ],
      "metadata": {
        "id": "DVPuT8LYZNRQ"
      }
    },
    {
      "cell_type": "markdown",
      "source": [
        "##### 2. What is/are the insight(s) found from the chart?"
      ],
      "metadata": {
        "id": "YPEH6qLeZNRQ"
      }
    },
    {
      "cell_type": "markdown",
      "source": [
        "Answer Here - The heatmap reveals insights into the relationships between the selected numerical variables. Each cell in the heatmap represents the correlation coefficient between two variables, with values ranging from -1 to 1."
      ],
      "metadata": {
        "id": "bfSqtnDqZNRR"
      }
    },
    {
      "cell_type": "markdown",
      "source": [
        "#### Chart - 15 - Pair Plot"
      ],
      "metadata": {
        "id": "q29F0dvdveiT"
      }
    },
    {
      "cell_type": "code",
      "source": [
        "# Pair Plot visualization code\n",
        "# Selecting relevant columns\n",
        "relevant_columns = ['total_of_special_requests', 'booking_changes', 'arrival_date_week_number']\n",
        "\n",
        "# Creating a copy of the DataFrame and filtering it to include only the relevant columns\n",
        "df_filtered = df_dataset[relevant_columns].copy()\n",
        "\n",
        "# Plotting the pair plot\n",
        "sns.pairplot(df_filtered, diag_kind='kde', markers='.')\n",
        "plt.suptitle('Pair Plot of Total Special Requests, Booking Changes, and Arrival Date Week Number', y=1.02)\n",
        "plt.show()"
      ],
      "metadata": {
        "id": "o58-TEIhveiU"
      },
      "execution_count": null,
      "outputs": []
    },
    {
      "cell_type": "markdown",
      "source": [
        "##### 1. Why did you pick the specific chart?"
      ],
      "metadata": {
        "id": "EXh0U9oCveiU"
      }
    },
    {
      "cell_type": "markdown",
      "source": [
        "Answer Here. The pair plot chart is chosen because it allows for the simultaneous visualization of pairwise relationships between multiple variables.\n"
      ],
      "metadata": {
        "id": "eMmPjTByveiU"
      }
    },
    {
      "cell_type": "markdown",
      "source": [
        "##### 2. What is/are the insight(s) found from the chart?"
      ],
      "metadata": {
        "id": "22aHeOlLveiV"
      }
    },
    {
      "cell_type": "markdown",
      "source": [
        "Answer Here - The pair plot provides insights into the relationships between booking changes and arrival date week numbers."
      ],
      "metadata": {
        "id": "uPQ8RGwHveiV"
      }
    },
    {
      "cell_type": "markdown",
      "source": [
        "## **5. Solution to Business Objective**"
      ],
      "metadata": {
        "id": "JcMwzZxoAimU"
      }
    },
    {
      "cell_type": "markdown",
      "source": [
        "#### What do you suggest the client to achieve Business Objective ?\n",
        "Explain Briefly.\n",
        "\n",
        "**Diversify Customer Base**: By targeting customers from various countries, the client can reduce dependency on specific markets and mitigate the risk of revenue fluctuations due to factors impacting those markets.\n",
        "\n",
        "**Optimize Pricing Strategy:** Adjusting pricing based on the correlation between ADR and total guests allows the client to maximize revenue while ensuring competitiveness, especially in the face of competition from City hotels.\n",
        "\n",
        "**Enhance Guest Experience:** Improving service efficiency and reducing waiting times can lead to higher guest satisfaction, positive reviews, and repeat business, ultimately driving revenue growth.\n",
        "\n",
        "**Implement Effective Marketing Strategies:** Tailoring marketing efforts based on customer booking behaviors and exploring alternative channels helps the client reach a wider audience and capitalize on revenue opportunities.\n",
        "\n",
        "**Improve Loyalty Programs:** Investing in loyalty programs and service quality can foster customer loyalty, leading to repeat visits and positive word-of-mouth, which are crucial for sustainable revenue growth.\n",
        "\n",
        "**Diversify Booking Channels:** Maintaining a balanced approach to booking channels reduces dependency on any single channel and minimizes the risk of revenue loss due to disruptions or changes in the market landscape.\n",
        "\n",
        "**Address High Cancellation Rates:** Streamlining the booking process and implementing policies to reduce waiting times can lower cancellation rates and enhance customer satisfaction, ultimately leading to increased revenue.\n",
        "\n",
        "\n",
        "By implementing these recommendations, the client can leverage the insights gained from the analysis to optimize operations, improve customer satisfaction, and drive revenue growth, thereby achieving their business objectives effectively.\n",
        "\n",
        "\n",
        "\n",
        "\n",
        "\n"
      ],
      "metadata": {
        "id": "8G2x9gOozGDZ"
      }
    },
    {
      "cell_type": "markdown",
      "source": [
        "# **Conclusion**"
      ],
      "metadata": {
        "id": "gCX9965dhzqZ"
      }
    },
    {
      "cell_type": "markdown",
      "source": [
        "Write the conclusion here.\n",
        "\n",
        "The analysis provided valuable insights that can guide strategic decision-making, optimize revenue generation, and enhance operational efficiency within the hotel industry. By implementing the recommendations outlined in the analysis, hotels can position themselves for sustainable growth and success in an increasingly competitive market landscape.\n",
        "\n",
        "\n",
        "\n",
        "\n",
        "\n"
      ],
      "metadata": {
        "id": "Fjb1IsQkh3yE"
      }
    },
    {
      "cell_type": "markdown",
      "source": [
        "### ***Hurrah! You have successfully completed your EDA Capstone Project !!!***"
      ],
      "metadata": {
        "id": "gIfDvo9L0UH2"
      }
    }
  ]
}